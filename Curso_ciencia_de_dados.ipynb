{
  "nbformat": 4,
  "nbformat_minor": 0,
  "metadata": {
    "colab": {
      "name": "Curso_ciencia_de_dados.ipynb",
      "provenance": [],
      "authorship_tag": "ABX9TyOpjkCywUjmX+OGRhhMP4Ux",
      "include_colab_link": true
    },
    "kernelspec": {
      "name": "python3",
      "display_name": "Python 3"
    }
  },
  "cells": [
    {
      "cell_type": "markdown",
      "metadata": {
        "id": "view-in-github",
        "colab_type": "text"
      },
      "source": [
        "<a href=\"https://colab.research.google.com/github/Lucas-devcpu/ExerciciosPrograma-o/blob/main/Curso_ciencia_de_dados.ipynb\" target=\"_parent\"><img src=\"https://colab.research.google.com/assets/colab-badge.svg\" alt=\"Open In Colab\"/></a>"
      ]
    },
    {
      "cell_type": "code",
      "metadata": {
        "colab": {
          "base_uri": "https://localhost:8080/",
          "height": 281
        },
        "id": "Vn158w9zbS1U",
        "outputId": "0a3b2972-7c84-43f9-c526-085c919e9c1b"
      },
      "source": [
        "#Construindo Boxplot diagrama de caixa\r\n",
        "import matplotlib.pyplot as plt\r\n",
        "import random\r\n",
        "\r\n",
        "vetor = []\r\n",
        "\r\n",
        "for i in range(1000):\r\n",
        "  numero_aleatorio = random.randint(0,1000)\r\n",
        "  vetor.append(numero_aleatorio)\r\n",
        "\r\n",
        "plt.boxplot(vetor)\r\n",
        "plt.title(\"Boxplot\")\r\n",
        "plt.show()"
      ],
      "execution_count": 6,
      "outputs": [
        {
          "output_type": "display_data",
          "data": {
            "image/png": "[encoded data removed]",
            "text/plain": [
              "<Figure size 432x288 with 1 Axes>"
            ]
          },
          "metadata": {
            "tags": [],
            "needs_background": "light"
          }
        }
      ]
    }
  ]
}