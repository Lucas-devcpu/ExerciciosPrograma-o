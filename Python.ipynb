{
  "nbformat": 4,
  "nbformat_minor": 0,
  "metadata": {
    "colab": {
      "name": "Python.ipynb",
      "provenance": [],
      "authorship_tag": "ABX9TyMBqJFlIfNeoUTCz4Qowp+H",
      "include_colab_link": true
    },
    "kernelspec": {
      "name": "python3",
      "display_name": "Python 3"
    }
  },
  "cells": [
    {
      "cell_type": "markdown",
      "metadata": {
        "id": "view-in-github",
        "colab_type": "text"
      },
      "source": [
        "<a href=\"https://colab.research.google.com/github/Lucas-devcpu/ExerciciosPrograma-o/blob/main/Python.ipynb\" target=\"_parent\"><img src=\"https://colab.research.google.com/assets/colab-badge.svg\" alt=\"Open In Colab\"/></a>"
      ]
    },
    {
      "cell_type": "code",
      "metadata": {
        "id": "ht6jdeFWrSD0"
      },
      "source": [
        "idade = int(input(\"Digite sua idade:\"))\r\n",
        "\r\n",
        "if idade >= 18:\r\n",
        "  print(\"Maior de idade\")\r\n",
        "elif idade <18:\r\n",
        "  print(\"Menor de idade\")  "
      ],
      "execution_count": null,
      "outputs": []
    },
    {
      "cell_type": "code",
      "metadata": {
        "id": "So_qTnGCs3tH"
      },
      "source": [
        "nota1 = float(input(\"Digite sua primeira nota:\"))\r\n",
        "nota2 = float(input(\"Digite sua segunda nota:\"))\r\n",
        "media = (nota1 + nota2) /2\r\n",
        "\r\n",
        "if media >= 6:\r\n",
        "  print(\"APROVADO!!!\")\r\n",
        "else:\r\n",
        "  print(\"REPROVADO!!\")"
      ],
      "execution_count": null,
      "outputs": []
    },
    {
      "cell_type": "code",
      "metadata": {
        "id": "HnYJuOt1uOgL"
      },
      "source": [
        "from math import sqrt\r\n",
        "\r\n",
        "a = float(input(\"Digite o valor de A:\"))\r\n",
        "b = float(input(\"Digite o valor de B:\"))\r\n",
        "c = float(input(\"Digite o valor de C:\"))\r\n",
        "\r\n",
        "delta = b**2 - 4*a*c\r\n",
        "\r\n",
        "if delta > 0:\r\n",
        "  raiz_delta = sqrt(delta)\r\n",
        "\r\n",
        "  x1 = (-b + raiz_delta)/2*a\r\n",
        "  x2 = (-b - raiz_delta)/2*a\r\n",
        "  print(\"As raízes sao\" , x1, \"e\" , x2)\r\n",
        "\r\n",
        "else:\r\n",
        "  print(\"Delta negativo\")"
      ],
      "execution_count": null,
      "outputs": []
    },
    {
      "cell_type": "code",
      "metadata": {
        "colab": {
          "base_uri": "https://localhost:8080/"
        },
        "id": "T3hOD1j6x-gL",
        "outputId": "c23d131b-9b6d-4fc1-b263-49094b76df81"
      },
      "source": [
        "lista = [1,35,12]\r\n",
        "print(sorted(lista))"
      ],
      "execution_count": 35,
      "outputs": [
        {
          "output_type": "stream",
          "text": [
            "[1, 12, 35]\n"
          ],
          "name": "stdout"
        }
      ]
    },
    {
      "cell_type": "code",
      "metadata": {
        "colab": {
          "base_uri": "https://localhost:8080/"
        },
        "id": "gxmoSB5xydlA",
        "outputId": "c08ce56d-5caa-4539-ef63-eade592d99d5"
      },
      "source": [
        "numero1 = int(input(\"Digite um numero:\"))\r\n",
        "numero2 = int(input(\"Digite outro numero:\"))\r\n",
        "sinal = input(\"Digite um sinal matematico:\")\r\n",
        "\r\n",
        "if sinal == \"+\":\r\n",
        "  resultado = numero1 + numero2\r\n",
        "\r\n",
        "elif sinal == \"-\":\r\n",
        "  resultado = numero1 - numero2\r\n",
        "\r\n",
        "elif sinal == \"/\":\r\n",
        "  resultado = numero1 / numero2\r\n",
        "\r\n",
        "elif sinal == \"*\":\r\n",
        "  resultado = numero1 * numero2\r\n",
        "\r\n",
        "else:\r\n",
        "  print(\"Sinal invalido\")\r\n",
        "\r\n",
        "print(resultado)"
      ],
      "execution_count": 36,
      "outputs": [
        {
          "output_type": "stream",
          "text": [
            "Digite um numero:10\n",
            "Digite outro numero:5\n",
            "Digite um sinal matematico:+\n",
            "15\n"
          ],
          "name": "stdout"
        }
      ]
    }
  ]
}